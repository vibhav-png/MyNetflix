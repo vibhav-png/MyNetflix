{
 "cells": [
  {
   "cell_type": "markdown",
   "metadata": {
    "id": "3-tryr6LbmU_"
   },
   "source": [
    "## Movie Recommendation System "
   ]
  },
  {
   "cell_type": "code",
   "execution_count": null,
   "metadata": {
    "id": "t3MCXwjnbln5"
   },
   "outputs": [],
   "source": [
    "## Importing necessary Libraries \n",
    "import pandas as pd \n",
    "import numpy as np \n",
    "import seaborn as sns\n",
    "!pip install scikit-learn"
   ]
  },
  {
   "cell_type": "code",
   "execution_count": null,
   "metadata": {
    "colab": {
     "base_uri": "https://localhost:8080/"
    },
    "id": "DjiA9DNAfe_G",
    "outputId": "d62bddb6-3d20-4d98-fe82-1fa1c8a7c70c"
   },
   "outputs": [],
   "source": [
    "credits = pd.read_csv('C:/Users/Vibhav/Desktop/Python Project/Data/credits.csv')\n",
    "movies = pd.read_csv('C:/Users/Vibhav/Desktop/Python Project/Data/movies_meta_data.csv')"
   ]
  },
  {
   "cell_type": "code",
   "execution_count": null,
   "metadata": {
    "colab": {
     "base_uri": "https://localhost:8080/",
     "height": 206
    },
    "id": "dTxLPRwxiFAH",
    "outputId": "ab28a45f-2d54-4070-cd0e-364d145ce0df"
   },
   "outputs": [],
   "source": [
    "credits.head()"
   ]
  },
  {
   "cell_type": "code",
   "execution_count": null,
   "metadata": {
    "colab": {
     "base_uri": "https://localhost:8080/",
     "height": 751
    },
    "id": "Bce00dtAiIQG",
    "outputId": "4b5db598-8309-4575-cb98-dbed4773d830"
   },
   "outputs": [],
   "source": [
    "movies.head()"
   ]
  },
  {
   "cell_type": "code",
   "execution_count": null,
   "metadata": {
    "colab": {
     "base_uri": "https://localhost:8080/"
    },
    "id": "ylzBMNFkkfIL",
    "outputId": "24c4dceb-5d73-4189-92f8-59691b40cc2f"
   },
   "outputs": [],
   "source": [
    "print(\"Describe Credits DataFrame : \")\n",
    "print(credits.describe())\n",
    "print(\"---------------------------------------------------------------\")\n",
    "print(\"Dim of Credits DataFarme : \")\n",
    "print(credits.shape)\n",
    "print(\"---------------------------------------------------------------\")\n",
    "print(\"Data types of Credits DataFarme : \")\n",
    "print(credits.dtypes)"
   ]
  },
  {
   "cell_type": "code",
   "execution_count": null,
   "metadata": {
    "colab": {
     "base_uri": "https://localhost:8080/"
    },
    "id": "281qcwN5lBqz",
    "outputId": "036e2df1-c712-4888-bcb7-549efa6a0cba"
   },
   "outputs": [],
   "source": [
    "print(\"Describe movies DataFrame : \")\n",
    "print(movies.describe())\n",
    "print(\"---------------------------------------------------------------\")\n",
    "print(\"Dim of movies DataFarme : \")\n",
    "print(movies.shape)\n",
    "print(\"---------------------------------------------------------------\")\n",
    "print(\"Data types of Movies DataFarme : \")\n",
    "print(movies.dtypes)"
   ]
  },
  {
   "cell_type": "code",
   "execution_count": null,
   "metadata": {
    "colab": {
     "base_uri": "https://localhost:8080/",
     "height": 345
    },
    "id": "aevQUfImiYIf",
    "outputId": "3b858eac-07e5-4db2-8a4e-15cec0995561"
   },
   "outputs": [],
   "source": [
    "## Merging to create a Master Table\n",
    "credits.columns = ['id','tittle','cast','crew']\n",
    "movies= movies.merge(credits,on='id')"
   ]
  },
  {
   "cell_type": "code",
   "execution_count": null,
   "metadata": {},
   "outputs": [],
   "source": [
    "movies.head(5)"
   ]
  },
  {
   "cell_type": "code",
   "execution_count": null,
   "metadata": {
    "colab": {
     "base_uri": "https://localhost:8080/"
    },
    "id": "rT0cYDm9ibBr",
    "outputId": "76e80777-44c5-46b7-b79c-ac62de7c37f1"
   },
   "outputs": [],
   "source": [
    "movies.info()"
   ]
  },
  {
   "cell_type": "code",
   "execution_count": null,
   "metadata": {
    "colab": {
     "base_uri": "https://localhost:8080/"
    },
    "id": "a5g34KHYmUVJ",
    "outputId": "d0e6e77b-516a-4974-8273-33c59944484b"
   },
   "outputs": [],
   "source": [
    "print(\"Describe movies DataFrame : \")\n",
    "print(movies.describe())\n",
    "print(\"---------------------------------------------------------------\")\n",
    "print(\"Dim of movies DataFarme : \")\n",
    "print(movies.shape)"
   ]
  },
  {
   "cell_type": "code",
   "execution_count": null,
   "metadata": {},
   "outputs": [],
   "source": [
    "movie = pd.DataFrame()"
   ]
  },
  {
   "cell_type": "code",
   "execution_count": null,
   "metadata": {},
   "outputs": [],
   "source": [
    "movie['genres'] = movies['genres'].astype(str).str.strip('[]').str.replace(' ','').str.replace(\"'\",'')\n",
    "movie['genres'] = movies['genres'].astype(str).str.split(',')"
   ]
  },
  {
   "cell_type": "code",
   "execution_count": null,
   "metadata": {
    "scrolled": false
   },
   "outputs": [],
   "source": [
    "movie['director'] = movies['director'].astype(str).apply(xstr)\n",
    "ax = movie[movie['director']!=''].director.value_counts()[:10].sort_values(ascending=True).plot.barh(width=0.9,color=sns.color_palette('muted',40))\n",
    "for i, v in enumerate(movie[movie['director']!=''].director.value_counts()[:10].sort_values(ascending=True).values): \n",
    "    ax.text(.5, i, v,fontsize=12,color='white',weight='bold')\n",
    "plt.title('Directors with highest movies')\n",
    "plt.show()"
   ]
  },
  {
   "cell_type": "markdown",
   "metadata": {
    "id": "7Kf_AFP3m6IZ"
   },
   "source": [
    "### using IMDB's weighted rating (wr): \n",
    "\n",
    "![image.png](data:image/png;base64,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) \n",
    "\n",
    "where,\n",
    "\n",
    "v is the number of votes for the movie;      \n",
    "m is the minimum votes required to be listed as popular movies;    \n",
    "R is the average rating of the movie; And     \n",
    "C is the mean vote across the whole report     "
   ]
  },
  {
   "cell_type": "code",
   "execution_count": null,
   "metadata": {
    "colab": {
     "base_uri": "https://localhost:8080/",
     "height": 502
    },
    "id": "md_5y8lzmo_e",
    "outputId": "333dc4e4-1eff-4c53-f541-78b547c42fc0"
   },
   "outputs": [],
   "source": [
    "## C can be calculated from Votes field in DataFrame\n",
    "\n",
    "C= movies['vote_average'].mean()\n",
    "print(\"Printing Vote_average C : \")\n",
    "print(C)"
   ]
  },
  {
   "cell_type": "markdown",
   "metadata": {},
   "source": [
    "### The mean rating of all the movies is 6.092, hence 6.092 out of 10.\n",
    "We need to find the minimum votes cuttoff to be considered as popular movie , We are assuming 90th percentile as cuttoff (for a movie to be featured in as popular movie , it must have more votes than atleast 90 % of the total movies in list. "
   ]
  },
  {
   "cell_type": "code",
   "execution_count": null,
   "metadata": {},
   "outputs": [],
   "source": [
    "m= movies['vote_count'].quantile(0.9)\n",
    "m"
   ]
  },
  {
   "cell_type": "markdown",
   "metadata": {},
   "source": [
    "Using the cuttoff calculated above m = 1838, we are filtering the movies to be considered as popular movies"
   ]
  },
  {
   "cell_type": "code",
   "execution_count": null,
   "metadata": {},
   "outputs": [],
   "source": [
    "popular_movies = movies.copy().loc[movies['vote_count'] >= m]\n",
    "popular_movies.shape"
   ]
  },
  {
   "cell_type": "markdown",
   "metadata": {},
   "source": [
    "We see that there are 481 movies which qualify to be in this list of popular movies. \n",
    "To calculate metric for each qualified movie by defining a function, weighted_rating() and define a new feature score"
   ]
  },
  {
   "cell_type": "code",
   "execution_count": null,
   "metadata": {},
   "outputs": [],
   "source": [
    "def weighted_rating(x, m=m, C=C):\n",
    "    v = x['vote_count']\n",
    "    R = x['vote_average']\n",
    "    # Calculation based on the IMDB formula\n",
    "    return (v/(v+m) * R) + (m/(m+v) * C)"
   ]
  },
  {
   "cell_type": "code",
   "execution_count": null,
   "metadata": {},
   "outputs": [],
   "source": [
    "# Define a new feature 'score' and calculate its value with `weighted_rating()`\n",
    "popular_movies['score'] = popular_movies.apply(weighted_rating, axis=1)"
   ]
  },
  {
   "cell_type": "markdown",
   "metadata": {},
   "source": [
    "### Finally, sorting the DataFrame based on the score feature and output the title, vote count, vote average and weighted rating or score of the top 10 movies."
   ]
  },
  {
   "cell_type": "code",
   "execution_count": null,
   "metadata": {},
   "outputs": [],
   "source": [
    "#Sort movies based on score calculated above\n",
    "popular_movies = popular_movies.sort_values('score', ascending=False)\n",
    "\n",
    "#Print the 15 movies from the popular movies\n",
    "popular_movies[['title', 'vote_count', 'vote_average', 'score']].head(10)"
   ]
  },
  {
   "cell_type": "code",
   "execution_count": null,
   "metadata": {},
   "outputs": [],
   "source": [
    "pop= popular_movies.sort_values('score', ascending=False)\n",
    "import matplotlib.pyplot as plt\n",
    "plt.figure(figsize=(12,4))\n",
    "\n",
    "plt.barh(pop['title'].head(20),pop['score'].head(20), align='center',\n",
    "        color='skyblue')\n",
    "plt.gca().invert_yaxis()\n",
    "plt.xlabel(\"Popularity\")\n",
    "plt.title(\"Popular Movies\")"
   ]
  },
  {
   "cell_type": "markdown",
   "metadata": {},
   "source": [
    "The above recommended movies are general recommended movies to all the users. They are not sensitive to the interests and tastes of a particular user. \n",
    "\n",
    "Moving on to a more refined system personalized - Content Basesd Filtering."
   ]
  },
  {
   "cell_type": "markdown",
   "metadata": {},
   "source": [
    "### Content Based Filtering \n",
    "\n",
    "#### Plot description based Recommender\n",
    "- We will compute pairwise similarity scores for all movies based on their plot descriptions and recommend movies based on that   similarity score. The plot description is given in the overview feature of our dataset. Hence the chosen Content here is the     overview of the movie \n",
    "- Based on the content (Movie - overview) using TF-IDF (Term frequency - Inverse Document Frequency) and cosine similarity we \n",
    "  can identify similar movies and recommend accordingly"
   ]
  },
  {
   "cell_type": "code",
   "execution_count": null,
   "metadata": {},
   "outputs": [],
   "source": [
    "movies['overview'].head(5)"
   ]
  },
  {
   "cell_type": "code",
   "execution_count": null,
   "metadata": {},
   "outputs": [],
   "source": [
    "# Import TFIDF from scikit - learn\n",
    "from sklearn.feature_extraction.text import TfidfVectorizer\n"
   ]
  },
  {
   "cell_type": "code",
   "execution_count": null,
   "metadata": {},
   "outputs": [],
   "source": [
    "#Defining a TF-IDF Vectorizer Object. Remove all english stop words such as 'the', 'a'\n",
    "tfidf= TfidfVectorizer(stop_words='english')\n",
    "\n",
    "#Replace NaN with an empty string\n",
    "movies['overview'] = movies['overview'].fillna('')\n",
    "\n",
    "#Construct the required TF-IDF matrix by fitting and transforming the data\n",
    "tfidf_matrix = tfidf.fit_transform(movies['overview'])\n",
    "\n",
    "#shape of tfidf_matrix\n",
    "tfidf_matrix.shape"
   ]
  },
  {
   "attachments": {
    "image.png": {
     "image/png": "[encoded data removed]"
    }
   },
   "cell_type": "markdown",
   "metadata": {},
   "source": [
    "### We see that over 20,978 different words were used to describe the 4803 movies in our dataset.\n",
    "- Using the above mentioned matrix we can compute similarity score \n",
    "- Using Cosine Similarty Score https://en.wikipedia.org/wiki/Cosine_similarity to find similarity to calculate a numeric           quantity that denotes the similarity between two movies.\n",
    "- We use the cosine similarity score since it is independent of magnitude and is relatively easy and fast to calculate.           Mathematically, it is defined as follows:\n",
    "  \n",
    "  ![image.png](attachment:image.png)\n",
    "  \n",
    "  \n",
    "\n",
    "   "
   ]
  },
  {
   "cell_type": "code",
   "execution_count": null,
   "metadata": {},
   "outputs": [],
   "source": [
    "# We can use linear_kernel() or cosine_similarities(), picking linear_kernel() \n",
    "# Getting error for cosine_similarities() , we have to come up with reason to use linear_kernel()\n",
    "# Import linear_kernel\n",
    "from sklearn.metrics.pairwise import linear_kernel\n",
    "\n",
    "# Compute the cosine similarity matrix\n",
    "cosine_sim = linear_kernel(tfidf_matrix, tfidf_matrix)"
   ]
  },
  {
   "cell_type": "code",
   "execution_count": null,
   "metadata": {},
   "outputs": [],
   "source": [
    "#Construct a reverse map of indices and movie titles\n",
    "indexes = pd.Series(movies.index, index=movies['title']).drop_duplicates()"
   ]
  },
  {
   "cell_type": "code",
   "execution_count": null,
   "metadata": {},
   "outputs": [],
   "source": [
    "indexes"
   ]
  },
  {
   "cell_type": "markdown",
   "metadata": {},
   "source": [
    "## Function that takes in movie title as input and outputs most similar movies\n"
   ]
  },
  {
   "cell_type": "code",
   "execution_count": null,
   "metadata": {},
   "outputs": [],
   "source": [
    "def get_recommendations(title, cosine_sim=cosine_sim):\n",
    "    # Get the index of the movie that matches the title\n",
    "    idx = indexes[title]\n",
    "\n",
    "    # Get the pairwsie similarity scores of all movies with that movie\n",
    "    sim_scores = list(enumerate(cosine_sim[idx]))\n",
    "\n",
    "    # Sort the movies based on the similarity scores\n",
    "    sim_scores = sorted(sim_scores, key=lambda x: x[1], reverse=True)\n",
    "\n",
    "    # Get the scores of the 10 most similar movies\n",
    "    sim_scores = sim_scores[1:11]\n",
    "\n",
    "    # Get the movie indices\n",
    "    movie_indexes = [i[0] for i in sim_scores]\n",
    "\n",
    "    # Return the top 10 most similar movies\n",
    "    return movies['title'].iloc[movie_indexes]"
   ]
  },
  {
   "cell_type": "markdown",
   "metadata": {},
   "source": [
    "### Testing Similar Movies based on TF - IDF"
   ]
  },
  {
   "cell_type": "code",
   "execution_count": null,
   "metadata": {},
   "outputs": [],
   "source": [
    "get_recommendations('The Dark Knight Rises')"
   ]
  },
  {
   "cell_type": "code",
   "execution_count": null,
   "metadata": {},
   "outputs": [],
   "source": [
    "get_recommendations('The Avengers')"
   ]
  },
  {
   "cell_type": "code",
   "execution_count": null,
   "metadata": {},
   "outputs": [],
   "source": [
    "movies[movies['title']==\"Plastic\"]"
   ]
  },
  {
   "cell_type": "markdown",
   "metadata": {},
   "source": [
    "### Content Based Recommendation Part II Approach \n",
    "In the Part I Content based recommendation approach , The recommendation is based on the similarity of movie plot\n",
    "We can improve content based recommendation by considering various other meta data attributes like actors , Director and Genre and movie plot"
   ]
  },
  {
   "cell_type": "code",
   "execution_count": null,
   "metadata": {},
   "outputs": [],
   "source": [
    "# Parse the stringified features into their corresponding python objects\n",
    "from ast import literal_eval\n",
    "\n",
    "features = ['cast', 'crew', 'keywords', 'genres']\n",
    "for feature in features:\n",
    "    movies[feature] = movies[feature].apply(literal_eval)"
   ]
  },
  {
   "cell_type": "code",
   "execution_count": null,
   "metadata": {},
   "outputs": [],
   "source": [
    "movies[feature]"
   ]
  },
  {
   "cell_type": "code",
   "execution_count": null,
   "metadata": {},
   "outputs": [],
   "source": [
    "# Get the director's name from the crew feature. If director is not listed, return NaN\n",
    "def get_director(x):\n",
    "    for i in x:\n",
    "        if i['job'] == 'Director':\n",
    "            return i['name']\n",
    "    return np.nan"
   ]
  },
  {
   "cell_type": "code",
   "execution_count": null,
   "metadata": {},
   "outputs": [],
   "source": [
    "# Returns the list top 3 elements or entire list; whichever is more.\n",
    "def get_list(x):\n",
    "    if isinstance(x, list):\n",
    "        names = [i['name'] for i in x]\n",
    "        #Check if more than 3 elements exist. If yes, return only first three. If no, return entire list.\n",
    "        if len(names) > 3:\n",
    "            names = names[:3]\n",
    "        return names\n",
    "\n",
    "    #Return empty list in case of missing/malformed data\n",
    "    return []"
   ]
  },
  {
   "cell_type": "code",
   "execution_count": null,
   "metadata": {},
   "outputs": [],
   "source": [
    "# Define new director, cast, genres and keywords features that are in a suitable form.\n",
    "movies['director'] = movies['crew'].apply(get_director)\n",
    "\n",
    "features = ['cast', 'keywords', 'genres']\n",
    "for feature in features:\n",
    "    movies[feature] = movies[feature].apply(get_list)"
   ]
  },
  {
   "cell_type": "code",
   "execution_count": null,
   "metadata": {},
   "outputs": [],
   "source": [
    "# Print the new features of the first 10 films\n",
    "movies[['title', 'cast', 'director', 'keywords', 'genres']].head(10)"
   ]
  },
  {
   "cell_type": "code",
   "execution_count": null,
   "metadata": {},
   "outputs": [],
   "source": [
    "# Function to convert all strings to lower case and strip names of spaces\n",
    "def clean_data(x):\n",
    "    if isinstance(x, list):\n",
    "        return [str.lower(i.replace(\" \", \"\")) for i in x]\n",
    "    else:\n",
    "        #Check if director exists. If not, return empty string\n",
    "        if isinstance(x, str):\n",
    "            return str.lower(x.replace(\" \", \"\"))\n",
    "        else:\n",
    "            return ''"
   ]
  },
  {
   "cell_type": "code",
   "execution_count": null,
   "metadata": {},
   "outputs": [],
   "source": [
    "# Apply clean_data function to your features.\n",
    "features = ['cast', 'keywords', 'director', 'genres']\n",
    "\n",
    "for feature in features:\n",
    "    movies[feature] = movies[feature].apply(clean_data)"
   ]
  },
  {
   "cell_type": "code",
   "execution_count": null,
   "metadata": {},
   "outputs": [],
   "source": [
    "def create_soup(x):\n",
    "    return ' '.join(x['keywords']) + ' ' + ' '.join(x['cast']) + ' ' + x['director'] + ' ' + ' '.join(x['genres'])\n",
    "movies['soup'] = movies.apply(create_soup, axis=1)"
   ]
  },
  {
   "cell_type": "code",
   "execution_count": null,
   "metadata": {},
   "outputs": [],
   "source": [
    "# Import CountVectorizer and create the count matrix\n",
    "from sklearn.feature_extraction.text import CountVectorizer\n",
    "\n",
    "count = CountVectorizer(stop_words='english')\n",
    "count_matrix = count.fit_transform(movies['soup'])"
   ]
  },
  {
   "cell_type": "code",
   "execution_count": null,
   "metadata": {},
   "outputs": [],
   "source": [
    "# Compute the Cosine Similarity matrix based on the count_matrix\n",
    "from sklearn.metrics.pairwise import cosine_similarity\n",
    "\n",
    "cosine_sim2 = cosine_similarity(count_matrix, count_matrix)"
   ]
  },
  {
   "cell_type": "code",
   "execution_count": null,
   "metadata": {},
   "outputs": [],
   "source": [
    "# Reset index of our main DataFrame and construct reverse mapping as before\n",
    "movies = movies.reset_index()\n",
    "indices = pd.Series(movies.index, index=movies['title'])"
   ]
  },
  {
   "cell_type": "code",
   "execution_count": null,
   "metadata": {},
   "outputs": [],
   "source": [
    "get_recommendations('The Dark Knight Rises', cosine_sim2)"
   ]
  },
  {
   "cell_type": "code",
   "execution_count": null,
   "metadata": {},
   "outputs": [],
   "source": [
    "name = input('Enter the name of the movie watched : ')\n",
    "get_recommendations(name, cosine_sim2)"
   ]
  },
  {
   "cell_type": "markdown",
   "metadata": {},
   "source": [
    "### Collaborative filtering Approach"
   ]
  },
  {
   "cell_type": "markdown",
   "metadata": {},
   "source": [
    "## References :\n",
    "\n",
    "https://surpriselib.com/"
   ]
  },
  {
   "cell_type": "code",
   "execution_count": null,
   "metadata": {},
   "outputs": [],
   "source": [
    "from surprise import Reader, Dataset, SVD\n",
    "from surprise.model_selection import cross_validate\n",
    "reader = Reader()"
   ]
  },
  {
   "cell_type": "code",
   "execution_count": null,
   "metadata": {},
   "outputs": [],
   "source": [
    "ratings = pd.read_csv('C:/Users/manju/Desktop/Python Project/Data/ratings.csv')\n",
    "ratings.head()"
   ]
  },
  {
   "cell_type": "code",
   "execution_count": null,
   "metadata": {},
   "outputs": [],
   "source": [
    "data = Dataset.load_from_df(ratings[['userId', 'movieId', 'rating']], reader)\n",
    "data.split(n_folds=5)"
   ]
  },
  {
   "cell_type": "markdown",
   "metadata": {},
   "source": []
  }
 ],
 "metadata": {
  "colab": {
   "provenance": []
  },
  "kernelspec": {
   "display_name": "Python 3 (ipykernel)",
   "language": "python",
   "name": "python3"
  },
  "language_info": {
   "codemirror_mode": {
    "name": "ipython",
    "version": 3
   },
   "file_extension": ".py",
   "mimetype": "text/x-python",
   "name": "python",
   "nbconvert_exporter": "python",
   "pygments_lexer": "ipython3",
   "version": "3.9.12"
  }
 },
 "nbformat": 4,
 "nbformat_minor": 1
}
